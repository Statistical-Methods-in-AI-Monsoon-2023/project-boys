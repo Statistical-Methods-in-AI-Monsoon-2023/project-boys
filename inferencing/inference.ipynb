{
 "cells": [
  {
   "cell_type": "code",
   "execution_count": 1,
   "metadata": {},
   "outputs": [],
   "source": [
    "import numpy as np\n",
    "import pandas as pd\n",
    "import tensorflow as tf\n",
    "import transformers\n",
    "from transformers import DistilBertTokenizer, DistilBertForSequenceClassification\n",
    "import torch\n",
    "import torch.nn.functional as F\n",
    "import pickle"
   ]
  },
  {
   "cell_type": "markdown",
   "metadata": {},
   "source": [
    "# Loading models and data"
   ]
  },
  {
   "cell_type": "markdown",
   "metadata": {},
   "source": [
    "## CNN Reduced Full"
   ]
  },
  {
   "cell_type": "code",
   "execution_count": 9,
   "metadata": {},
   "outputs": [],
   "source": [
    "# Assuming you have loaded or defined your model\n",
    "CNN_reduced_full = tf.keras.models.load_model('./models/CNN_b_reduced.h5')\n",
    "\n",
    "# Load the test data\n",
    "X_test_CNN_reduced_full = np.load('./data/X_test_CNN_reduced_full.npy')\n",
    "y_test_CNN_reduced_full = np.load('./data/y_test_encoded_CNN_reduced_full.npy')"
   ]
  },
  {
   "cell_type": "markdown",
   "metadata": {},
   "source": [
    "## CNN Reduced"
   ]
  },
  {
   "cell_type": "code",
   "execution_count": 6,
   "metadata": {},
   "outputs": [],
   "source": [
    "CNN_reduced = tf.keras.models.load_model('./models/CNN_d_reduced.h5')\n",
    "\n",
    "X_test_CNN_reduced = np.load('./data/X_test_CNN_reduced.npy')\n",
    "y_test_CNN_reduced = np.load('./data/y_test_encoded_CNN_reduced.npy')"
   ]
  },
  {
   "cell_type": "markdown",
   "metadata": {},
   "source": [
    "## CNN Combined"
   ]
  },
  {
   "cell_type": "code",
   "execution_count": 2,
   "metadata": {},
   "outputs": [],
   "source": [
    "CNN_combined = tf.keras.models.load_model('./models/CNN.h5')\n",
    "\n",
    "X_test_CNN_combined = np.load('./data/X_test_CNN_combined.npy')\n",
    "y_test_CNN_combined = np.load('./data/y_test_encoded_CNN_combined.npy')\n",
    "\n"
   ]
  },
  {
   "cell_type": "markdown",
   "metadata": {},
   "source": [
    "## RNN Reduced Full"
   ]
  },
  {
   "cell_type": "code",
   "execution_count": 11,
   "metadata": {},
   "outputs": [
    {
     "name": "stderr",
     "output_type": "stream",
     "text": [
      "WARNING:absl:At this time, the v2.11+ optimizer `tf.keras.optimizers.Adam` runs slowly on M1/M2 Macs, please use the legacy Keras optimizer instead, located at `tf.keras.optimizers.legacy.Adam`.\n"
     ]
    }
   ],
   "source": [
    "RNN_reduced_full = tf.keras.models.load_model('./models/RNN_reduced_full.h5')\n",
    "\n",
    "X_test_RNN_reduced_full = np.load('./data/X_test_RNN_reduced_full.npy')\n",
    "y_test_RNN_reduced_full = np.load('./data/y_test_RNN_reduced_full.npy')"
   ]
  },
  {
   "cell_type": "markdown",
   "metadata": {},
   "source": [
    "## RNN Reduced"
   ]
  },
  {
   "cell_type": "code",
   "execution_count": 12,
   "metadata": {},
   "outputs": [
    {
     "name": "stderr",
     "output_type": "stream",
     "text": [
      "WARNING:absl:At this time, the v2.11+ optimizer `tf.keras.optimizers.Adam` runs slowly on M1/M2 Macs, please use the legacy Keras optimizer instead, located at `tf.keras.optimizers.legacy.Adam`.\n"
     ]
    }
   ],
   "source": [
    "RNN_reduced = tf.keras.models.load_model('./models/RNN_reduced.h5')\n",
    "\n",
    "X_test_RNN_reduced = np.load('./data/X_test_RNN_reduced.npy')\n",
    "y_test_RNN_reduced = np.load('./data/y_test_RNN_reduced.npy')"
   ]
  },
  {
   "cell_type": "markdown",
   "metadata": {},
   "source": [
    "## RNN Combined"
   ]
  },
  {
   "cell_type": "code",
   "execution_count": 13,
   "metadata": {},
   "outputs": [
    {
     "name": "stderr",
     "output_type": "stream",
     "text": [
      "WARNING:absl:At this time, the v2.11+ optimizer `tf.keras.optimizers.Adam` runs slowly on M1/M2 Macs, please use the legacy Keras optimizer instead, located at `tf.keras.optimizers.legacy.Adam`.\n"
     ]
    }
   ],
   "source": [
    "RNN_combined = tf.keras.models.load_model('./models/RNN_combined.h5')\n",
    "\n",
    "X_test_RNN_combined = np.load('./data/X_test_RNN_combined.npy')\n",
    "y_test_RNN_combined = np.load('./data/y_test_RNN_combined.npy')"
   ]
  },
  {
   "cell_type": "markdown",
   "metadata": {},
   "source": [
    "## distilBERT"
   ]
  },
  {
   "cell_type": "code",
   "execution_count": 7,
   "metadata": {},
   "outputs": [],
   "source": [
    "save_directory = '../saved_BERT'\n",
    "\n",
    "# Load DistilBERT model and tokenizer\n",
    "tokenizer_BERT = transformers.DistilBertTokenizer.from_pretrained(save_directory)\n",
    "model_BERT = transformers.DistilBertForSequenceClassification.from_pretrained(save_directory)"
   ]
  },
  {
   "cell_type": "code",
   "execution_count": 8,
   "metadata": {},
   "outputs": [],
   "source": [
    "\n",
    "test_df = pd.read_csv('./data/BERT.csv')\n",
    "\n",
    "# Create test_texts and test_labels as lists\n",
    "\n",
    "test_texts = test_df['text'].tolist()\n",
    "test_labels = test_df['label'].tolist()"
   ]
  },
  {
   "cell_type": "markdown",
   "metadata": {},
   "source": [
    "## RFC Combined"
   ]
  },
  {
   "cell_type": "code",
   "execution_count": 3,
   "metadata": {},
   "outputs": [],
   "source": [
    "# Load model from rfc_model_combined.pkl\n",
    "rfc_model_combined = pickle.load(open('./models/rfc_model_combined.pkl', 'rb'))\n",
    "\n",
    "X_test_RFC = np.load('./data/X_test_RFC.npy')\n",
    "y_test_RFC = np.load('./data/y_test_encoded_RFC.npy')"
   ]
  },
  {
   "cell_type": "markdown",
   "metadata": {},
   "source": [
    "# Inferencing "
   ]
  },
  {
   "cell_type": "code",
   "execution_count": 3,
   "metadata": {},
   "outputs": [],
   "source": [
    "# Function to perform inference without tracking gradients\n",
    "def inference_step(inputs, loaded_model):\n",
    "    # Set training to False for layers like Dropout or BatchNormalization\n",
    "    # to ensure they are in inference mode\n",
    "    outputs = loaded_model(inputs, training=False)\n",
    "    return outputs\n"
   ]
  },
  {
   "cell_type": "code",
   "execution_count": 4,
   "metadata": {},
   "outputs": [],
   "source": [
    "def inference(idx, loaded_model, X_test, y_test):\n",
    "    # Perform inference on a single image\n",
    "    inference_input = X_test[idx:idx+1]\n",
    "    inference_output = inference_step(inference_input, loaded_model)\n",
    "    # Get the predicted class with the highest probability\n",
    "    inference_prediction = np.argmax(inference_output, axis=1)\n",
    "    # Get the ground truth label\n",
    "    inference_truth = y_test[idx]\n",
    "    return inference_prediction, inference_truth"
   ]
  },
  {
   "cell_type": "markdown",
   "metadata": {},
   "source": [
    "## CNN"
   ]
  },
  {
   "cell_type": "code",
   "execution_count": 11,
   "metadata": {},
   "outputs": [
    {
     "name": "stdout",
     "output_type": "stream",
     "text": [
      "Prediction: [5]\n",
      "Ground truth: 5\n"
     ]
    }
   ],
   "source": [
    "pred, truth = inference(1749, CNN_reduced_full, X_test_CNN_reduced_full, y_test_CNN_reduced_full)\n",
    "\n",
    "print('Prediction: {}'.format(pred))\n",
    "print('Ground truth: {}'.format(truth))"
   ]
  },
  {
   "cell_type": "code",
   "execution_count": 12,
   "metadata": {},
   "outputs": [
    {
     "name": "stdout",
     "output_type": "stream",
     "text": [
      "Prediction: [10]\n",
      "Ground truth: 10\n"
     ]
    }
   ],
   "source": [
    "pred, truth = inference(1749, CNN_reduced, X_test_CNN_reduced, y_test_CNN_reduced)\n",
    "\n",
    "print('Prediction: {}'.format(pred))\n",
    "print('Ground truth: {}'.format(truth))"
   ]
  },
  {
   "cell_type": "code",
   "execution_count": 13,
   "metadata": {},
   "outputs": [
    {
     "name": "stdout",
     "output_type": "stream",
     "text": [
      "Prediction: [3]\n",
      "Ground truth: 8\n"
     ]
    }
   ],
   "source": [
    "pred, truth = inference(1749, CNN_combined, X_test_CNN_combined, y_test_CNN_combined)\n",
    "\n",
    "print('Prediction: {}'.format(pred))\n",
    "print('Ground truth: {}'.format(truth))"
   ]
  },
  {
   "cell_type": "markdown",
   "metadata": {},
   "source": [
    "## RNN"
   ]
  },
  {
   "cell_type": "code",
   "execution_count": 22,
   "metadata": {},
   "outputs": [
    {
     "name": "stdout",
     "output_type": "stream",
     "text": [
      "Prediction: [5]\n",
      "Ground truth: 5\n"
     ]
    }
   ],
   "source": [
    "pred, truth = inference(32, RNN_reduced_full, X_test_RNN_reduced_full, y_test_RNN_reduced_full)\n",
    "\n",
    "print('Prediction: {}'.format(pred))\n",
    "print('Ground truth: {}'.format(truth))"
   ]
  },
  {
   "cell_type": "code",
   "execution_count": 21,
   "metadata": {},
   "outputs": [
    {
     "name": "stdout",
     "output_type": "stream",
     "text": [
      "Prediction: [10]\n",
      "Ground truth: 10\n"
     ]
    }
   ],
   "source": [
    "pred, truth = inference(32, RNN_reduced, X_test_RNN_reduced, y_test_RNN_reduced)\n",
    "\n",
    "print('Prediction: {}'.format(pred))\n",
    "print('Ground truth: {}'.format(truth))"
   ]
  },
  {
   "cell_type": "code",
   "execution_count": 23,
   "metadata": {},
   "outputs": [
    {
     "name": "stdout",
     "output_type": "stream",
     "text": [
      "Prediction: [8]\n",
      "Ground truth: 8\n"
     ]
    }
   ],
   "source": [
    "pred, truth = inference(32, RNN_combined, X_test_RNN_combined, y_test_RNN_combined)\n",
    "\n",
    "print('Prediction: {}'.format(pred))\n",
    "print('Ground truth: {}'.format(truth))"
   ]
  },
  {
   "cell_type": "markdown",
   "metadata": {},
   "source": [
    "## distilBERT"
   ]
  },
  {
   "cell_type": "code",
   "execution_count": 25,
   "metadata": {},
   "outputs": [
    {
     "name": "stdout",
     "output_type": "stream",
     "text": [
      "Prediction: 5\n",
      "Ground truth: 5\n"
     ]
    }
   ],
   "source": [
    "idx = 32\n",
    "test_text = test_texts[idx]\n",
    "\n",
    "predict_input = tokenizer_BERT.encode_plus(\n",
    "    test_text,\n",
    "    truncation=True,\n",
    "    padding=True,\n",
    "    return_tensors='pt'\n",
    ")\n",
    "\n",
    "output = model_BERT(**predict_input)[0]\n",
    "prediction_value = torch.argmax(output, axis=1).item()\n",
    "print('Prediction: {}'.format(prediction_value))\n",
    "print('Ground truth: {}'.format(test_labels[idx]))"
   ]
  },
  {
   "cell_type": "markdown",
   "metadata": {},
   "source": [
    "## RFC"
   ]
  },
  {
   "cell_type": "code",
   "execution_count": 9,
   "metadata": {},
   "outputs": [
    {
     "name": "stdout",
     "output_type": "stream",
     "text": [
      "Prediction: 6\n",
      "Ground truth: 5\n"
     ]
    }
   ],
   "source": [
    "# Making predictions on the test data\n",
    "predictions = rfc_model_combined.predict(X_test_RFC[32:33])\n",
    "\n",
    "print('Prediction: {}'.format(predictions[0]))\n",
    "print('Ground truth: {}'.format(y_test_RFC[32]))"
   ]
  },
  {
   "cell_type": "code",
   "execution_count": null,
   "metadata": {},
   "outputs": [],
   "source": [
    "# Delete all models\n",
    "\n",
    "del CNN_reduced_full\n",
    "del CNN_reduced\n",
    "del CNN_combined\n",
    "del RNN_reduced_full\n",
    "del RNN_reduced\n",
    "del RNN_combined\n",
    "del rfc_model_combined\n",
    "del tokenizer_BERT\n",
    "del model_BERT"
   ]
  }
 ],
 "metadata": {
  "kernelspec": {
   "display_name": ".venv",
   "language": "python",
   "name": "python3"
  },
  "language_info": {
   "codemirror_mode": {
    "name": "ipython",
    "version": 3
   },
   "file_extension": ".py",
   "mimetype": "text/x-python",
   "name": "python",
   "nbconvert_exporter": "python",
   "pygments_lexer": "ipython3",
   "version": "3.11.5"
  }
 },
 "nbformat": 4,
 "nbformat_minor": 2
}
