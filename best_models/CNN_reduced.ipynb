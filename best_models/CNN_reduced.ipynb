{
 "cells": [
  {
   "cell_type": "markdown",
   "metadata": {},
   "source": [
    "# CNN with reduced features from dataset and generated features"
   ]
  },
  {
   "cell_type": "code",
   "execution_count": 1,
   "metadata": {},
   "outputs": [],
   "source": [
    "import numpy as np\n",
    "import pandas as pd"
   ]
  },
  {
   "cell_type": "code",
   "execution_count": 2,
   "metadata": {},
   "outputs": [],
   "source": [
    "df = pd.read_csv('../datasets/combined_reduced.csv')"
   ]
  },
  {
   "cell_type": "code",
   "execution_count": 3,
   "metadata": {},
   "outputs": [],
   "source": [
    "X1 = np.load('../datasets/final_X.npy')"
   ]
  },
  {
   "cell_type": "code",
   "execution_count": 4,
   "metadata": {},
   "outputs": [],
   "source": [
    "# Convert the DataFrame to a NumPy array\n",
    "df_array = df.to_numpy()\n",
    "\n",
    "# Stack the DataFrame and the NumPy array horizontally\n",
    "X_final = np.hstack((df_array, X1))"
   ]
  },
  {
   "cell_type": "code",
   "execution_count": 5,
   "metadata": {},
   "outputs": [],
   "source": [
    "target = pd.read_csv('../datasets/kag_red.csv')"
   ]
  },
  {
   "cell_type": "code",
   "execution_count": 6,
   "metadata": {},
   "outputs": [],
   "source": [
    "from sklearn.model_selection import train_test_split\n",
    "\n",
    "y = target['subreddit']  # Target"
   ]
  },
  {
   "cell_type": "code",
   "execution_count": 7,
   "metadata": {},
   "outputs": [],
   "source": [
    "# merge X_final and y to single dataframe\n",
    "df_final = pd.DataFrame(X_final)\n",
    "df_final['subreddit'] = y"
   ]
  },
  {
   "cell_type": "code",
   "execution_count": 8,
   "metadata": {},
   "outputs": [],
   "source": [
    "import pandas as pd\n",
    "import numpy as np\n",
    "\n",
    "# Get indexes of rows where subreddit is 'depression'\n",
    "depression_rows = df_final[df_final['subreddit'] == 'depression'].index\n",
    "\n",
    "# Calculate the number of rows to keep and remove for 'depression' subreddit\n",
    "total_depression_rows = len(depression_rows)\n",
    "rows_to_keep = int(total_depression_rows * 0.57)  # 57% of the rows to keep\n",
    "\n",
    "# Randomly select 57% of the rows to keep\n",
    "rows_to_keep_indexes = np.random.choice(depression_rows, size=rows_to_keep, replace=False)\n",
    "\n",
    "# Get the indexes of rows to remove\n",
    "rows_to_remove_indexes = depression_rows.difference(rows_to_keep_indexes)\n",
    "\n",
    "# Remove 43% of rows with subreddit 'depression' \n",
    "df_final.drop(rows_to_remove_indexes, inplace=True)\n",
    "\n",
    "# Now df contains 57% of the original 'depression' rows randomly selected and all other rows intact\n"
   ]
  },
  {
   "cell_type": "code",
   "execution_count": 9,
   "metadata": {},
   "outputs": [],
   "source": [
    "\n",
    "X_final_d = df_final.drop('subreddit', axis=1)\n",
    "y_final_d = df_final['subreddit']\n"
   ]
  },
  {
   "cell_type": "code",
   "execution_count": 10,
   "metadata": {},
   "outputs": [],
   "source": [
    "# convert X_final_d and y_final_d to numpy arrays\n",
    "X_final_d = X_final_d.to_numpy()"
   ]
  },
  {
   "cell_type": "code",
   "execution_count": 11,
   "metadata": {},
   "outputs": [
    {
     "name": "stdout",
     "output_type": "stream",
     "text": [
      "(324046, 1140)\n",
      "(324046,)\n"
     ]
    }
   ],
   "source": [
    "# print the shape of X_final and y\n",
    "print(X_final_d.shape)\n",
    "print(y_final_d.shape)"
   ]
  },
  {
   "cell_type": "code",
   "execution_count": 12,
   "metadata": {},
   "outputs": [],
   "source": [
    "# Split into train, validation, and test sets\n",
    "X_train, X_test, y_train, y_test = train_test_split(X_final_d, y_final_d, test_size=0.2, random_state=42)\n"
   ]
  },
  {
   "cell_type": "code",
   "execution_count": 13,
   "metadata": {},
   "outputs": [],
   "source": [
    "\n",
    "X_train, X_val, y_train, y_val = train_test_split(X_train, y_train, test_size=0.25, random_state=42)\n"
   ]
  },
  {
   "cell_type": "code",
   "execution_count": 14,
   "metadata": {},
   "outputs": [],
   "source": [
    "from sklearn.preprocessing import OneHotEncoder\n",
    "from sklearn.metrics import accuracy_score, classification_report\n",
    "from tensorflow.keras.models import Sequential\n",
    "from tensorflow.keras.layers import Conv1D, MaxPooling1D, Flatten, Dense\n",
    "from tensorflow.keras.utils import to_categorical\n",
    "from tensorflow.keras.callbacks import EarlyStopping \n",
    "\n",
    "# Step 1: Encode the categorical target variable (y_train) using OneHotEncoder\n",
    "encoder = OneHotEncoder(sparse_output=False)\n",
    "y_train_encoded = encoder.fit_transform(y_train.values.reshape(-1, 1))\n",
    "y_val_encoded = encoder.transform(y_val.values.reshape(-1, 1))\n",
    "y_test_encoded = encoder.transform(y_test.values.reshape(-1, 1))\n",
    "# Step 2: Flatten the encoded labels\n",
    "y_train_encoded = y_train_encoded.argmax(axis=1)\n",
    "y_val_encoded = y_val_encoded.argmax(axis=1)\n",
    "y_test_encoded = y_test_encoded.argmax(axis=1)\n",
    "y_train_encoded = to_categorical(y_train_encoded) \n",
    "y_val_encoded = to_categorical(y_val_encoded) \n",
    "y_test_encoded_cat = to_categorical(y_test_encoded)\n"
   ]
  },
  {
   "cell_type": "markdown",
   "metadata": {},
   "source": [
    "## Compiling and training the model"
   ]
  },
  {
   "cell_type": "code",
   "execution_count": 15,
   "metadata": {},
   "outputs": [],
   "source": [
    "import os\n",
    "os.environ['WANDB_NOTEBOOK_NAME'] = 'CNN_reduced.ipynb'"
   ]
  },
  {
   "cell_type": "code",
   "execution_count": 16,
   "metadata": {},
   "outputs": [
    {
     "name": "stderr",
     "output_type": "stream",
     "text": [
      "\u001b[34m\u001b[1mwandb\u001b[0m: Currently logged in as: \u001b[33maayushach16\u001b[0m (\u001b[33mboys69\u001b[0m). Use \u001b[1m`wandb login --relogin`\u001b[0m to force relogin\n"
     ]
    },
    {
     "data": {
      "text/html": [
       "Tracking run with wandb version 0.16.0"
      ],
      "text/plain": [
       "<IPython.core.display.HTML object>"
      ]
     },
     "metadata": {},
     "output_type": "display_data"
    },
    {
     "data": {
      "text/html": [
       "Run data is saved locally in <code>/Users/yeetusonthefetus/iiit/SMAI/project-boys/best_models/wandb/run-20231130_175826-tkc4bzwl</code>"
      ],
      "text/plain": [
       "<IPython.core.display.HTML object>"
      ]
     },
     "metadata": {},
     "output_type": "display_data"
    },
    {
     "data": {
      "text/html": [
       "Syncing run <strong><a href='https://wandb.ai/boys69/Best_Models/runs/tkc4bzwl' target=\"_blank\">CNN_d_reduced</a></strong> to <a href='https://wandb.ai/boys69/Best_Models' target=\"_blank\">Weights & Biases</a> (<a href='https://wandb.me/run' target=\"_blank\">docs</a>)<br/>"
      ],
      "text/plain": [
       "<IPython.core.display.HTML object>"
      ]
     },
     "metadata": {},
     "output_type": "display_data"
    },
    {
     "data": {
      "text/html": [
       " View project at <a href='https://wandb.ai/boys69/Best_Models' target=\"_blank\">https://wandb.ai/boys69/Best_Models</a>"
      ],
      "text/plain": [
       "<IPython.core.display.HTML object>"
      ]
     },
     "metadata": {},
     "output_type": "display_data"
    },
    {
     "data": {
      "text/html": [
       " View run at <a href='https://wandb.ai/boys69/Best_Models/runs/tkc4bzwl' target=\"_blank\">https://wandb.ai/boys69/Best_Models/runs/tkc4bzwl</a>"
      ],
      "text/plain": [
       "<IPython.core.display.HTML object>"
      ]
     },
     "metadata": {},
     "output_type": "display_data"
    }
   ],
   "source": [
    "import wandb\n",
    "from wandb.keras import WandbCallback\n",
    "from tensorflow.keras.models import Sequential\n",
    "from tensorflow.keras.layers import Conv1D, MaxPooling1D, Flatten, Dense\n",
    "from tensorflow.keras.callbacks import EarlyStopping, Callback\n",
    "from sklearn.metrics import accuracy_score\n",
    "import numpy as np\n",
    "\n",
    "wandb.init(project='Best_Models', name='CNN_d_reduced')\n",
    "\n",
    "\n",
    "params = {\n",
    "    'filters': 16, 'kernel_size': 3, 'pool_size': 2, 'dense_units': 200, 'act': 'tanh'\n",
    "}"
   ]
  },
  {
   "cell_type": "code",
   "execution_count": 17,
   "metadata": {},
   "outputs": [],
   "source": [
    "class CustomSaver(Callback):\n",
    "    def on_epoch_end(self, epoch, logs={}):\n",
    "        if epoch == 3 or epoch == 6:  # or save after some epoch, each k-th epoch etc.\n",
    "            self.model.save(\"model_relu_{}.hd5\".format(epoch))"
   ]
  },
  {
   "cell_type": "code",
   "execution_count": 18,
   "metadata": {},
   "outputs": [
    {
     "name": "stderr",
     "output_type": "stream",
     "text": [
      "\u001b[34m\u001b[1mwandb\u001b[0m: \u001b[33mWARNING\u001b[0m The save_model argument by default saves the model in the HDF5 format that cannot save custom objects like subclassed models and custom layers. This behavior will be deprecated in a future release in favor of the SavedModel format. Meanwhile, the HDF5 model is saved as W&B files and the SavedModel as W&B Artifacts.\n"
     ]
    },
    {
     "name": "stdout",
     "output_type": "stream",
     "text": [
      "Epoch 1/10\n",
      "12148/12152 [============================>.] - ETA: 0s - loss: 1.0275 - accuracy: 0.6533"
     ]
    },
    {
     "name": "stderr",
     "output_type": "stream",
     "text": [
      "/Users/yeetusonthefetus/iiit/SMAI/project-boys/.venv/lib/python3.11/site-packages/keras/src/engine/training.py:3103: UserWarning: You are saving your model as an HDF5 file via `model.save()`. This file format is considered legacy. We recommend using instead the native Keras format, e.g. `model.save('my_model.keras')`.\n",
      "  saving_api.save_model(\n"
     ]
    },
    {
     "name": "stdout",
     "output_type": "stream",
     "text": [
      "INFO:tensorflow:Assets written to: /Users/yeetusonthefetus/iiit/SMAI/project-boys/best_models/wandb/run-20231130_175826-tkc4bzwl/files/model-best/assets\n"
     ]
    },
    {
     "name": "stderr",
     "output_type": "stream",
     "text": [
      "INFO:tensorflow:Assets written to: /Users/yeetusonthefetus/iiit/SMAI/project-boys/best_models/wandb/run-20231130_175826-tkc4bzwl/files/model-best/assets\n",
      "\u001b[34m\u001b[1mwandb\u001b[0m: Adding directory to artifact (/Users/yeetusonthefetus/iiit/SMAI/project-boys/best_models/wandb/run-20231130_175826-tkc4bzwl/files/model-best)... Done. 0.1s\n"
     ]
    },
    {
     "name": "stdout",
     "output_type": "stream",
     "text": [
      "12152/12152 [==============================] - 60s 5ms/step - loss: 1.0275 - accuracy: 0.6533 - val_loss: 0.8750 - val_accuracy: 0.6997\n",
      "Epoch 2/10\n",
      "12150/12152 [============================>.] - ETA: 0s - loss: 0.8517 - accuracy: 0.7058"
     ]
    },
    {
     "name": "stderr",
     "output_type": "stream",
     "text": [
      "/Users/yeetusonthefetus/iiit/SMAI/project-boys/.venv/lib/python3.11/site-packages/keras/src/engine/training.py:3103: UserWarning: You are saving your model as an HDF5 file via `model.save()`. This file format is considered legacy. We recommend using instead the native Keras format, e.g. `model.save('my_model.keras')`.\n",
      "  saving_api.save_model(\n"
     ]
    },
    {
     "name": "stdout",
     "output_type": "stream",
     "text": [
      "INFO:tensorflow:Assets written to: /Users/yeetusonthefetus/iiit/SMAI/project-boys/best_models/wandb/run-20231130_175826-tkc4bzwl/files/model-best/assets\n"
     ]
    },
    {
     "name": "stderr",
     "output_type": "stream",
     "text": [
      "INFO:tensorflow:Assets written to: /Users/yeetusonthefetus/iiit/SMAI/project-boys/best_models/wandb/run-20231130_175826-tkc4bzwl/files/model-best/assets\n",
      "\u001b[34m\u001b[1mwandb\u001b[0m: Adding directory to artifact (/Users/yeetusonthefetus/iiit/SMAI/project-boys/best_models/wandb/run-20231130_175826-tkc4bzwl/files/model-best)... Done. 0.1s\n"
     ]
    },
    {
     "name": "stdout",
     "output_type": "stream",
     "text": [
      "12152/12152 [==============================] - 56s 5ms/step - loss: 0.8516 - accuracy: 0.7059 - val_loss: 0.8377 - val_accuracy: 0.7128\n",
      "Epoch 3/10\n",
      "12143/12152 [============================>.] - ETA: 0s - loss: 0.8229 - accuracy: 0.7147"
     ]
    },
    {
     "name": "stderr",
     "output_type": "stream",
     "text": [
      "/Users/yeetusonthefetus/iiit/SMAI/project-boys/.venv/lib/python3.11/site-packages/keras/src/engine/training.py:3103: UserWarning: You are saving your model as an HDF5 file via `model.save()`. This file format is considered legacy. We recommend using instead the native Keras format, e.g. `model.save('my_model.keras')`.\n",
      "  saving_api.save_model(\n"
     ]
    },
    {
     "name": "stdout",
     "output_type": "stream",
     "text": [
      "INFO:tensorflow:Assets written to: /Users/yeetusonthefetus/iiit/SMAI/project-boys/best_models/wandb/run-20231130_175826-tkc4bzwl/files/model-best/assets\n"
     ]
    },
    {
     "name": "stderr",
     "output_type": "stream",
     "text": [
      "INFO:tensorflow:Assets written to: /Users/yeetusonthefetus/iiit/SMAI/project-boys/best_models/wandb/run-20231130_175826-tkc4bzwl/files/model-best/assets\n",
      "\u001b[34m\u001b[1mwandb\u001b[0m: Adding directory to artifact (/Users/yeetusonthefetus/iiit/SMAI/project-boys/best_models/wandb/run-20231130_175826-tkc4bzwl/files/model-best)... Done. 0.1s\n"
     ]
    },
    {
     "name": "stdout",
     "output_type": "stream",
     "text": [
      "12152/12152 [==============================] - 59s 5ms/step - loss: 0.8228 - accuracy: 0.7147 - val_loss: 0.8237 - val_accuracy: 0.7139\n",
      "Epoch 4/10\n",
      "12151/12152 [============================>.] - ETA: 0s - loss: 0.8047 - accuracy: 0.7199"
     ]
    },
    {
     "name": "stderr",
     "output_type": "stream",
     "text": [
      "/Users/yeetusonthefetus/iiit/SMAI/project-boys/.venv/lib/python3.11/site-packages/keras/src/engine/training.py:3103: UserWarning: You are saving your model as an HDF5 file via `model.save()`. This file format is considered legacy. We recommend using instead the native Keras format, e.g. `model.save('my_model.keras')`.\n",
      "  saving_api.save_model(\n"
     ]
    },
    {
     "name": "stdout",
     "output_type": "stream",
     "text": [
      "INFO:tensorflow:Assets written to: /Users/yeetusonthefetus/iiit/SMAI/project-boys/best_models/wandb/run-20231130_175826-tkc4bzwl/files/model-best/assets\n"
     ]
    },
    {
     "name": "stderr",
     "output_type": "stream",
     "text": [
      "INFO:tensorflow:Assets written to: /Users/yeetusonthefetus/iiit/SMAI/project-boys/best_models/wandb/run-20231130_175826-tkc4bzwl/files/model-best/assets\n",
      "\u001b[34m\u001b[1mwandb\u001b[0m: Adding directory to artifact (/Users/yeetusonthefetus/iiit/SMAI/project-boys/best_models/wandb/run-20231130_175826-tkc4bzwl/files/model-best)... Done. 0.1s\n"
     ]
    },
    {
     "name": "stdout",
     "output_type": "stream",
     "text": [
      "INFO:tensorflow:Assets written to: model_relu_3.hd5/assets\n"
     ]
    },
    {
     "name": "stderr",
     "output_type": "stream",
     "text": [
      "INFO:tensorflow:Assets written to: model_relu_3.hd5/assets\n"
     ]
    },
    {
     "name": "stdout",
     "output_type": "stream",
     "text": [
      "12152/12152 [==============================] - 60s 5ms/step - loss: 0.8047 - accuracy: 0.7199 - val_loss: 0.8075 - val_accuracy: 0.7191\n",
      "Epoch 5/10\n",
      "12143/12152 [============================>.] - ETA: 0s - loss: 0.7905 - accuracy: 0.7243"
     ]
    },
    {
     "name": "stderr",
     "output_type": "stream",
     "text": [
      "/Users/yeetusonthefetus/iiit/SMAI/project-boys/.venv/lib/python3.11/site-packages/keras/src/engine/training.py:3103: UserWarning: You are saving your model as an HDF5 file via `model.save()`. This file format is considered legacy. We recommend using instead the native Keras format, e.g. `model.save('my_model.keras')`.\n",
      "  saving_api.save_model(\n"
     ]
    },
    {
     "name": "stdout",
     "output_type": "stream",
     "text": [
      "INFO:tensorflow:Assets written to: /Users/yeetusonthefetus/iiit/SMAI/project-boys/best_models/wandb/run-20231130_175826-tkc4bzwl/files/model-best/assets\n"
     ]
    },
    {
     "name": "stderr",
     "output_type": "stream",
     "text": [
      "INFO:tensorflow:Assets written to: /Users/yeetusonthefetus/iiit/SMAI/project-boys/best_models/wandb/run-20231130_175826-tkc4bzwl/files/model-best/assets\n",
      "\u001b[34m\u001b[1mwandb\u001b[0m: Adding directory to artifact (/Users/yeetusonthefetus/iiit/SMAI/project-boys/best_models/wandb/run-20231130_175826-tkc4bzwl/files/model-best)... Done. 0.1s\n"
     ]
    },
    {
     "name": "stdout",
     "output_type": "stream",
     "text": [
      "12152/12152 [==============================] - 60s 5ms/step - loss: 0.7904 - accuracy: 0.7243 - val_loss: 0.8046 - val_accuracy: 0.7214\n",
      "Epoch 6/10\n",
      "12152/12152 [==============================] - ETA: 0s - loss: 0.7785 - accuracy: 0.7273"
     ]
    },
    {
     "name": "stderr",
     "output_type": "stream",
     "text": [
      "/Users/yeetusonthefetus/iiit/SMAI/project-boys/.venv/lib/python3.11/site-packages/keras/src/engine/training.py:3103: UserWarning: You are saving your model as an HDF5 file via `model.save()`. This file format is considered legacy. We recommend using instead the native Keras format, e.g. `model.save('my_model.keras')`.\n",
      "  saving_api.save_model(\n"
     ]
    },
    {
     "name": "stdout",
     "output_type": "stream",
     "text": [
      "INFO:tensorflow:Assets written to: /Users/yeetusonthefetus/iiit/SMAI/project-boys/best_models/wandb/run-20231130_175826-tkc4bzwl/files/model-best/assets\n"
     ]
    },
    {
     "name": "stderr",
     "output_type": "stream",
     "text": [
      "INFO:tensorflow:Assets written to: /Users/yeetusonthefetus/iiit/SMAI/project-boys/best_models/wandb/run-20231130_175826-tkc4bzwl/files/model-best/assets\n",
      "\u001b[34m\u001b[1mwandb\u001b[0m: Adding directory to artifact (/Users/yeetusonthefetus/iiit/SMAI/project-boys/best_models/wandb/run-20231130_175826-tkc4bzwl/files/model-best)... Done. 0.1s\n"
     ]
    },
    {
     "name": "stdout",
     "output_type": "stream",
     "text": [
      "12152/12152 [==============================] - 62s 5ms/step - loss: 0.7785 - accuracy: 0.7273 - val_loss: 0.7967 - val_accuracy: 0.7212\n",
      "Epoch 7/10\n",
      "12152/12152 [==============================] - ETA: 0s - loss: 0.7685 - accuracy: 0.7300"
     ]
    },
    {
     "name": "stderr",
     "output_type": "stream",
     "text": [
      "/Users/yeetusonthefetus/iiit/SMAI/project-boys/.venv/lib/python3.11/site-packages/keras/src/engine/training.py:3103: UserWarning: You are saving your model as an HDF5 file via `model.save()`. This file format is considered legacy. We recommend using instead the native Keras format, e.g. `model.save('my_model.keras')`.\n",
      "  saving_api.save_model(\n"
     ]
    },
    {
     "name": "stdout",
     "output_type": "stream",
     "text": [
      "INFO:tensorflow:Assets written to: /Users/yeetusonthefetus/iiit/SMAI/project-boys/best_models/wandb/run-20231130_175826-tkc4bzwl/files/model-best/assets\n"
     ]
    },
    {
     "name": "stderr",
     "output_type": "stream",
     "text": [
      "INFO:tensorflow:Assets written to: /Users/yeetusonthefetus/iiit/SMAI/project-boys/best_models/wandb/run-20231130_175826-tkc4bzwl/files/model-best/assets\n",
      "\u001b[34m\u001b[1mwandb\u001b[0m: Adding directory to artifact (/Users/yeetusonthefetus/iiit/SMAI/project-boys/best_models/wandb/run-20231130_175826-tkc4bzwl/files/model-best)... Done. 0.1s\n"
     ]
    },
    {
     "name": "stdout",
     "output_type": "stream",
     "text": [
      "INFO:tensorflow:Assets written to: model_relu_6.hd5/assets\n"
     ]
    },
    {
     "name": "stderr",
     "output_type": "stream",
     "text": [
      "INFO:tensorflow:Assets written to: model_relu_6.hd5/assets\n"
     ]
    },
    {
     "name": "stdout",
     "output_type": "stream",
     "text": [
      "12152/12152 [==============================] - 63s 5ms/step - loss: 0.7685 - accuracy: 0.7300 - val_loss: 0.7881 - val_accuracy: 0.7251\n",
      "Epoch 8/10\n",
      "12147/12152 [============================>.] - ETA: 0s - loss: 0.7587 - accuracy: 0.7322"
     ]
    },
    {
     "name": "stderr",
     "output_type": "stream",
     "text": [
      "/Users/yeetusonthefetus/iiit/SMAI/project-boys/.venv/lib/python3.11/site-packages/keras/src/engine/training.py:3103: UserWarning: You are saving your model as an HDF5 file via `model.save()`. This file format is considered legacy. We recommend using instead the native Keras format, e.g. `model.save('my_model.keras')`.\n",
      "  saving_api.save_model(\n"
     ]
    },
    {
     "name": "stdout",
     "output_type": "stream",
     "text": [
      "INFO:tensorflow:Assets written to: /Users/yeetusonthefetus/iiit/SMAI/project-boys/best_models/wandb/run-20231130_175826-tkc4bzwl/files/model-best/assets\n"
     ]
    },
    {
     "name": "stderr",
     "output_type": "stream",
     "text": [
      "INFO:tensorflow:Assets written to: /Users/yeetusonthefetus/iiit/SMAI/project-boys/best_models/wandb/run-20231130_175826-tkc4bzwl/files/model-best/assets\n",
      "\u001b[34m\u001b[1mwandb\u001b[0m: Adding directory to artifact (/Users/yeetusonthefetus/iiit/SMAI/project-boys/best_models/wandb/run-20231130_175826-tkc4bzwl/files/model-best)... Done. 0.1s\n"
     ]
    },
    {
     "name": "stdout",
     "output_type": "stream",
     "text": [
      "12152/12152 [==============================] - 62s 5ms/step - loss: 0.7587 - accuracy: 0.7322 - val_loss: 0.7829 - val_accuracy: 0.7268\n",
      "Epoch 9/10\n",
      "12146/12152 [============================>.] - ETA: 0s - loss: 0.7499 - accuracy: 0.7356"
     ]
    },
    {
     "name": "stderr",
     "output_type": "stream",
     "text": [
      "/Users/yeetusonthefetus/iiit/SMAI/project-boys/.venv/lib/python3.11/site-packages/keras/src/engine/training.py:3103: UserWarning: You are saving your model as an HDF5 file via `model.save()`. This file format is considered legacy. We recommend using instead the native Keras format, e.g. `model.save('my_model.keras')`.\n",
      "  saving_api.save_model(\n"
     ]
    },
    {
     "name": "stdout",
     "output_type": "stream",
     "text": [
      "INFO:tensorflow:Assets written to: /Users/yeetusonthefetus/iiit/SMAI/project-boys/best_models/wandb/run-20231130_175826-tkc4bzwl/files/model-best/assets\n"
     ]
    },
    {
     "name": "stderr",
     "output_type": "stream",
     "text": [
      "INFO:tensorflow:Assets written to: /Users/yeetusonthefetus/iiit/SMAI/project-boys/best_models/wandb/run-20231130_175826-tkc4bzwl/files/model-best/assets\n",
      "\u001b[34m\u001b[1mwandb\u001b[0m: Adding directory to artifact (/Users/yeetusonthefetus/iiit/SMAI/project-boys/best_models/wandb/run-20231130_175826-tkc4bzwl/files/model-best)... Done. 0.1s\n",
      "\u001b[34m\u001b[1mwandb\u001b[0m: Network error (ConnectionError), entering retry loop.\n"
     ]
    },
    {
     "name": "stdout",
     "output_type": "stream",
     "text": [
      "12152/12152 [==============================] - 80s 7ms/step - loss: 0.7499 - accuracy: 0.7356 - val_loss: 0.7798 - val_accuracy: 0.7280\n",
      "Epoch 10/10\n",
      "12152/12152 [==============================] - 60s 5ms/step - loss: 0.7413 - accuracy: 0.7379 - val_loss: 0.7829 - val_accuracy: 0.7258\n",
      "2026/2026 [==============================] - 3s 1ms/step\n",
      "2026/2026 [==============================] - 3s 1ms/step - loss: 0.7830 - accuracy: 0.7259\n"
     ]
    }
   ],
   "source": [
    "import tensorflow as tf\n",
    "\n",
    "model = Sequential()\n",
    "model.add(Conv1D(filters=params['filters'], kernel_size=params['kernel_size'], activation=params['act'],\n",
    "                 input_shape=(X_train.shape[1], 1)))\n",
    "model.add(MaxPooling1D(pool_size=params['pool_size']))\n",
    "model.add(Flatten())\n",
    "model.add(Dense(params['dense_units'], activation=params['act']))\n",
    "model.add(Dense(y_train_encoded.shape[1], activation='softmax'))\n",
    "\n",
    "opt = tf.keras.optimizers.legacy.Adam(learning_rate=0.00005)\n",
    "model.compile(optimizer=opt, loss='categorical_crossentropy', metrics=['accuracy'])\n",
    "\n",
    "X_train_reshaped = X_train.reshape(X_train.shape[0], X_train.shape[1], 1)\n",
    "X_val_reshaped = X_val.reshape(X_val.shape[0], X_val.shape[1], 1)\n",
    "\n",
    "saver = CustomSaver()\n",
    "\n",
    "history = model.fit(X_train_reshaped, y_train_encoded, epochs=10, batch_size=16,\n",
    "                    validation_data=(X_val_reshaped, y_val_encoded),\n",
    "                    callbacks=[EarlyStopping(monitor='val_loss', patience=3, restore_best_weights=True),\n",
    "                               WandbCallback(), saver])\n",
    "\n",
    "X_test_reshaped = X_test.reshape(X_test.shape[0], X_test.shape[1], 1)\n",
    "y_pred = model.predict(X_test_reshaped)\n",
    "y_pred_classes = np.argmax(y_pred, axis=1)\n",
    "accuracy = accuracy_score(y_test_encoded, y_pred_classes)\n",
    "\n",
    "accr = model.evaluate(X_test_reshaped, y_test_encoded_cat)\n",
    "\n",
    "wandb.log({'test_loss': accr[0], 'test_acc': accr[1]})\n",
    "wandb.log({'validation_loss': history.history['val_loss'][len(history.history['val_loss']) - 1], 'epoch': len(history.history['val_loss'])})\n",
    "\n",
    "\n",
    "\n"
   ]
  },
  {
   "cell_type": "code",
   "execution_count": 15,
   "metadata": {},
   "outputs": [],
   "source": [
    "\n",
    "\n",
    "# Save X_test_reshaped and y_test_encoded_cat to numpy arrays\n",
    "\n",
    "np.save('../inferencing/data/X_test_CNN_reduced.npy', X_test_reshaped)\n",
    "np.save('../inferencing/data/y_test_encoded_CNN_reduced.npy', y_test_encoded)"
   ]
  },
  {
   "cell_type": "markdown",
   "metadata": {},
   "source": [
    "## Results"
   ]
  },
  {
   "cell_type": "code",
   "execution_count": 19,
   "metadata": {},
   "outputs": [
    {
     "name": "stdout",
     "output_type": "stream",
     "text": [
      "Accuracy: 0.7258756364758525\n",
      "Classification Report:\n",
      "              precision    recall  f1-score   support\n",
      "\n",
      "           0       0.75      0.72      0.73      1518\n",
      "           1       0.86      0.88      0.87      9254\n",
      "           2       0.82      0.73      0.78      1229\n",
      "           3       0.80      0.82      0.81     11512\n",
      "           4       0.74      0.78      0.76      1774\n",
      "           5       0.69      0.69      0.69      4868\n",
      "           6       0.60      0.60      0.60     13369\n",
      "           7       0.69      0.64      0.66      4704\n",
      "           8       0.80      0.63      0.71      1696\n",
      "           9       0.75      0.60      0.67      1709\n",
      "          10       0.70      0.73      0.71     13177\n",
      "\n",
      "    accuracy                           0.73     64810\n",
      "   macro avg       0.75      0.71      0.73     64810\n",
      "weighted avg       0.73      0.73      0.73     64810\n",
      "\n"
     ]
    }
   ],
   "source": [
    "\n",
    "# Evaluate the model\n",
    "accuracy = accuracy_score(y_test_encoded, y_pred_classes)\n",
    "print(f\"Accuracy: {accuracy}\")\n",
    "print(\"Classification Report:\")\n",
    "print(classification_report(y_test_encoded, y_pred_classes))"
   ]
  },
  {
   "cell_type": "code",
   "execution_count": 20,
   "metadata": {},
   "outputs": [],
   "source": [
    "from sklearn.metrics import confusion_matrix\n",
    "import seaborn as sns\n",
    "import matplotlib.pyplot as plt\n",
    "\n",
    "\n",
    "# Compute confusion matrix in percentage of total test samples\n",
    "cm = confusion_matrix(y_test_encoded, y_pred_classes)\n"
   ]
  },
  {
   "cell_type": "code",
   "execution_count": 21,
   "metadata": {},
   "outputs": [
    {
     "data": {
      "image/png": "[encoded data removed]",
      "text/plain": [
       "<Figure size 1000x800 with 2 Axes>"
      ]
     },
     "metadata": {},
     "output_type": "display_data"
    }
   ],
   "source": [
    "\n",
    "\n",
    "# Display the confusion matrix using seaborn heatmap\n",
    "plt.figure(figsize=(10, 8))\n",
    "sns.heatmap(cm, annot=True, fmt='d', cmap='Blues', xticklabels=encoder.categories_[0], yticklabels=encoder.categories_[0])\n",
    "plt.title('Confusion Matrix')\n",
    "plt.xlabel('Predicted Labels')\n",
    "plt.ylabel('True Labels')\n",
    "plt.show()\n"
   ]
  },
  {
   "cell_type": "code",
   "execution_count": 22,
   "metadata": {},
   "outputs": [
    {
     "name": "stdout",
     "output_type": "stream",
     "text": [
      "subreddit\n",
      "depression       13369\n",
      "suicidewatch     13177\n",
      "anxiety          11512\n",
      "adhd              9254\n",
      "bpd               4868\n",
      "lonely            4704\n",
      "autism            1774\n",
      "schizophrenia     1709\n",
      "ptsd              1696\n",
      "addiction         1518\n",
      "alcoholism        1229\n",
      "Name: count, dtype: int64\n"
     ]
    }
   ],
   "source": [
    "# print count of categories in y_test\n",
    "print(y_test.value_counts())"
   ]
  },
  {
   "cell_type": "code",
   "execution_count": 23,
   "metadata": {},
   "outputs": [
    {
     "data": {
      "application/vnd.jupyter.widget-view+json": {
       "model_id": "1df82c511b514dfab2d0b3f89eb7a0b7",
       "version_major": 2,
       "version_minor": 0
      },
      "text/plain": [
       "VBox(children=(Label(value='209.839 MB of 209.839 MB uploaded (0.089 MB deduped)\\r'), FloatProgress(value=1.0,…"
      ]
     },
     "metadata": {},
     "output_type": "display_data"
    },
    {
     "data": {
      "text/html": [
       "<style>\n",
       "    table.wandb td:nth-child(1) { padding: 0 10px; text-align: left ; width: auto;} td:nth-child(2) {text-align: left ; width: 100%}\n",
       "    .wandb-row { display: flex; flex-direction: row; flex-wrap: wrap; justify-content: flex-start; width: 100% }\n",
       "    .wandb-col { display: flex; flex-direction: column; flex-basis: 100%; flex: 1; padding: 10px; }\n",
       "    </style>\n",
       "<div class=\"wandb-row\"><div class=\"wandb-col\"><h3>Run history:</h3><br/><table class=\"wandb\"><tr><td>accuracy</td><td>▁▅▆▇▇▇▇███</td></tr><tr><td>epoch</td><td>▁▂▂▃▄▅▅▆▇▇█</td></tr><tr><td>loss</td><td>█▄▃▃▂▂▂▁▁▁</td></tr><tr><td>test_acc</td><td>▁</td></tr><tr><td>test_loss</td><td>▁</td></tr><tr><td>val_accuracy</td><td>▁▄▅▆▆▆▇██▇</td></tr><tr><td>val_loss</td><td>█▅▄▃▃▂▂▁▁▁</td></tr><tr><td>validation_loss</td><td>▁</td></tr></table><br/></div><div class=\"wandb-col\"><h3>Run summary:</h3><br/><table class=\"wandb\"><tr><td>accuracy</td><td>0.73792</td></tr><tr><td>best_epoch</td><td>8</td></tr><tr><td>best_val_loss</td><td>0.77981</td></tr><tr><td>epoch</td><td>10</td></tr><tr><td>loss</td><td>0.74125</td></tr><tr><td>test_acc</td><td>0.72588</td></tr><tr><td>test_loss</td><td>0.78297</td></tr><tr><td>val_accuracy</td><td>0.72583</td></tr><tr><td>val_loss</td><td>0.78291</td></tr><tr><td>validation_loss</td><td>0.78291</td></tr></table><br/></div></div>"
      ],
      "text/plain": [
       "<IPython.core.display.HTML object>"
      ]
     },
     "metadata": {},
     "output_type": "display_data"
    },
    {
     "data": {
      "text/html": [
       " View run <strong style=\"color:#cdcd00\">CNN_d_reduced</strong> at: <a href='https://wandb.ai/boys69/Best_Models/runs/tkc4bzwl' target=\"_blank\">https://wandb.ai/boys69/Best_Models/runs/tkc4bzwl</a><br/> View job at <a href='https://wandb.ai/boys69/Best_Models/jobs/QXJ0aWZhY3RDb2xsZWN0aW9uOjExOTg5ODU2Mw==/version_details/v0' target=\"_blank\">https://wandb.ai/boys69/Best_Models/jobs/QXJ0aWZhY3RDb2xsZWN0aW9uOjExOTg5ODU2Mw==/version_details/v0</a><br/>Synced 5 W&B file(s), 1 media file(s), 47 artifact file(s) and 1 other file(s)"
      ],
      "text/plain": [
       "<IPython.core.display.HTML object>"
      ]
     },
     "metadata": {},
     "output_type": "display_data"
    },
    {
     "data": {
      "text/html": [
       "Find logs at: <code>./wandb/run-20231130_175826-tkc4bzwl/logs</code>"
      ],
      "text/plain": [
       "<IPython.core.display.HTML object>"
      ]
     },
     "metadata": {},
     "output_type": "display_data"
    }
   ],
   "source": [
    "wandb.finish()"
   ]
  },
  {
   "cell_type": "code",
   "execution_count": 24,
   "metadata": {},
   "outputs": [],
   "source": [
    "del model"
   ]
  }
 ],
 "metadata": {
  "kernelspec": {
   "display_name": ".venv",
   "language": "python",
   "name": "python3"
  },
  "language_info": {
   "codemirror_mode": {
    "name": "ipython",
    "version": 3
   },
   "file_extension": ".py",
   "mimetype": "text/x-python",
   "name": "python",
   "nbconvert_exporter": "python",
   "pygments_lexer": "ipython3",
   "version": "3.11.5"
  }
 },
 "nbformat": 4,
 "nbformat_minor": 2
}
