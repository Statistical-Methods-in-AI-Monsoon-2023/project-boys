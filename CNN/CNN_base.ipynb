{
 "cells": [
  {
   "cell_type": "markdown",
   "metadata": {},
   "source": [
    "# CNN with original data"
   ]
  },
  {
   "cell_type": "code",
   "execution_count": 1,
   "metadata": {},
   "outputs": [],
   "source": [
    "import numpy as np\n",
    "import pandas as pd"
   ]
  },
  {
   "cell_type": "code",
   "execution_count": 2,
   "metadata": {},
   "outputs": [],
   "source": [
    "combined_df = pd.read_csv('../datasets/combined_df.csv')"
   ]
  },
  {
   "cell_type": "code",
   "execution_count": 3,
   "metadata": {},
   "outputs": [],
   "source": [
    "from sklearn.model_selection import train_test_split\n",
    "\n",
    "X = combined_df.drop(['subreddit', 'post'],  axis=1)  # Features\n",
    "y = combined_df['subreddit']  # Target"
   ]
  },
  {
   "cell_type": "code",
   "execution_count": 4,
   "metadata": {},
   "outputs": [
    {
     "name": "stdout",
     "output_type": "stream",
     "text": [
      "subreddit\n",
      "depression       117331\n",
      "suicidewatch      66161\n",
      "anxiety           57671\n",
      "adhd              45631\n",
      "bpd               24294\n",
      "lonely            23635\n",
      "autism             8869\n",
      "schizophrenia      8712\n",
      "ptsd               8643\n",
      "addiction          7641\n",
      "alcoholism         5911\n",
      "Name: count, dtype: int64\n"
     ]
    }
   ],
   "source": [
    "# Print count of each class\n",
    "print(y.value_counts())"
   ]
  },
  {
   "cell_type": "code",
   "execution_count": 5,
   "metadata": {},
   "outputs": [],
   "source": [
    "# Split the data into training and testing sets\n",
    "X_train, X_test, y_train, y_test = train_test_split(X  , y, test_size=0.2, random_state=42)\n",
    "\n",
    "X_train, X_val, y_train, y_val = train_test_split(X_train, y_train, test_size=0.25, random_state=42)"
   ]
  },
  {
   "cell_type": "code",
   "execution_count": 6,
   "metadata": {},
   "outputs": [],
   "source": [
    "\n",
    "# Convert X_train and X_test to numpy arrays\n",
    "X_train = np.array(X_train)\n",
    "X_test = np.array(X_test)\n",
    "X_val = np.array(X_val)"
   ]
  },
  {
   "cell_type": "code",
   "execution_count": 7,
   "metadata": {},
   "outputs": [],
   "source": [
    "from sklearn.preprocessing import OneHotEncoder\n",
    "from sklearn.metrics import accuracy_score, classification_report\n",
    "from tensorflow.keras.models import Sequential\n",
    "from tensorflow.keras.layers import Conv1D, MaxPooling1D, Flatten, Dense\n",
    "from tensorflow.keras.utils import to_categorical\n",
    "from tensorflow.keras.callbacks import EarlyStopping \n",
    "\n",
    "# Step 1: Encode the categorical target variable (y_train) using OneHotEncoder\n",
    "encoder = OneHotEncoder(sparse_output=False)\n",
    "y_train_encoded = encoder.fit_transform(y_train.values.reshape(-1, 1))\n",
    "y_val_encoded = encoder.transform(y_val.values.reshape(-1, 1))\n",
    "\n",
    "# Step 2: Flatten the encoded labels\n",
    "y_train_encoded = y_train_encoded.argmax(axis=1)\n",
    "y_val_encoded = y_val_encoded.argmax(axis=1)\n",
    "y_test_encoded = encoder.transform(y_test.values.reshape(-1, 1)).argmax(axis=1)\n",
    "y_train_encoded = to_categorical(y_train_encoded) \n",
    "y_val_encoded = to_categorical(y_val_encoded) \n"
   ]
  },
  {
   "cell_type": "markdown",
   "metadata": {},
   "source": [
    "## Compiling and training the model"
   ]
  },
  {
   "cell_type": "code",
   "execution_count": 8,
   "metadata": {},
   "outputs": [],
   "source": [
    "import os\n",
    "os.environ['WANDB_NOTEBOOK_NAME'] = 'CNN_base.ipynb'"
   ]
  },
  {
   "cell_type": "code",
   "execution_count": 9,
   "metadata": {},
   "outputs": [
    {
     "name": "stderr",
     "output_type": "stream",
     "text": [
      "\u001b[34m\u001b[1mwandb\u001b[0m: Currently logged in as: \u001b[33maayushach16\u001b[0m (\u001b[33mboys69\u001b[0m). Use \u001b[1m`wandb login --relogin`\u001b[0m to force relogin\n"
     ]
    },
    {
     "data": {
      "application/vnd.jupyter.widget-view+json": {
       "model_id": "fa0aaa091da548abb3ecc8377408b7d9",
       "version_major": 2,
       "version_minor": 0
      },
      "text/plain": [
       "VBox(children=(Label(value='Waiting for wandb.init()...\\r'), FloatProgress(value=0.011119955088684543, max=1.0…"
      ]
     },
     "metadata": {},
     "output_type": "display_data"
    },
    {
     "data": {
      "text/html": [
       "Tracking run with wandb version 0.16.0"
      ],
      "text/plain": [
       "<IPython.core.display.HTML object>"
      ]
     },
     "metadata": {},
     "output_type": "display_data"
    },
    {
     "data": {
      "text/html": [
       "Run data is saved locally in <code>/Users/yeetusonthefetus/iiit/SMAI/project-boys/CNN/wandb/run-20231127_212001-xriopubo</code>"
      ],
      "text/plain": [
       "<IPython.core.display.HTML object>"
      ]
     },
     "metadata": {},
     "output_type": "display_data"
    },
    {
     "data": {
      "text/html": [
       "Syncing run <strong><a href='https://wandb.ai/boys69/Reddit_mental_CNN_aayush/runs/xriopubo' target=\"_blank\">restful-sunset-13</a></strong> to <a href='https://wandb.ai/boys69/Reddit_mental_CNN_aayush' target=\"_blank\">Weights & Biases</a> (<a href='https://wandb.me/run' target=\"_blank\">docs</a>)<br/>"
      ],
      "text/plain": [
       "<IPython.core.display.HTML object>"
      ]
     },
     "metadata": {},
     "output_type": "display_data"
    },
    {
     "data": {
      "text/html": [
       " View project at <a href='https://wandb.ai/boys69/Reddit_mental_CNN_aayush' target=\"_blank\">https://wandb.ai/boys69/Reddit_mental_CNN_aayush</a>"
      ],
      "text/plain": [
       "<IPython.core.display.HTML object>"
      ]
     },
     "metadata": {},
     "output_type": "display_data"
    },
    {
     "data": {
      "text/html": [
       " View run at <a href='https://wandb.ai/boys69/Reddit_mental_CNN_aayush/runs/xriopubo' target=\"_blank\">https://wandb.ai/boys69/Reddit_mental_CNN_aayush/runs/xriopubo</a>"
      ],
      "text/plain": [
       "<IPython.core.display.HTML object>"
      ]
     },
     "metadata": {},
     "output_type": "display_data"
    }
   ],
   "source": [
    "import wandb\n",
    "from wandb.keras import WandbCallback\n",
    "from tensorflow.keras.models import Sequential\n",
    "from tensorflow.keras.layers import Conv1D, MaxPooling1D, Flatten, Dense\n",
    "from tensorflow.keras.callbacks import EarlyStopping, Callback\n",
    "from sklearn.metrics import accuracy_score\n",
    "import numpy as np\n",
    "\n",
    "wandb.init(project='Reddit_mental_CNN_aayush')\n",
    "\n",
    "# Your data: X_train, X_val, X_test, y_train_encoded, y_val_encoded, y_test_encoded\n",
    "\n",
    "# Manual specification of parameters for the first run\n",
    "params = {\n",
    "    'filters': 16, 'kernel_size': 3, 'pool_size': 2, 'dense_units': 200, 'act': 'tanh'\n",
    "}"
   ]
  },
  {
   "cell_type": "code",
   "execution_count": 10,
   "metadata": {},
   "outputs": [],
   "source": [
    "class CustomSaver(Callback):\n",
    "    def on_epoch_end(self, epoch, logs={}):\n",
    "        if epoch == 3 or epoch == 6:  # or save after some epoch, each k-th epoch etc.\n",
    "            self.model.save(\"model_relu_{}.hd5\".format(epoch))"
   ]
  },
  {
   "cell_type": "code",
   "execution_count": 11,
   "metadata": {},
   "outputs": [
    {
     "name": "stderr",
     "output_type": "stream",
     "text": [
      "WARNING:absl:At this time, the v2.11+ optimizer `tf.keras.optimizers.Adam` runs slowly on M1/M2 Macs, please use the legacy Keras optimizer instead, located at `tf.keras.optimizers.legacy.Adam`.\n",
      "\u001b[34m\u001b[1mwandb\u001b[0m: \u001b[33mWARNING\u001b[0m The save_model argument by default saves the model in the HDF5 format that cannot save custom objects like subclassed models and custom layers. This behavior will be deprecated in a future release in favor of the SavedModel format. Meanwhile, the HDF5 model is saved as W&B files and the SavedModel as W&B Artifacts.\n"
     ]
    },
    {
     "name": "stdout",
     "output_type": "stream",
     "text": [
      "Epoch 1/15\n",
      "14040/14044 [============================>.] - ETA: 0s - loss: 1.1819 - accuracy: 0.5885"
     ]
    },
    {
     "name": "stderr",
     "output_type": "stream",
     "text": [
      "/Users/yeetusonthefetus/iiit/SMAI/project-boys/.venv/lib/python3.11/site-packages/keras/src/engine/training.py:3103: UserWarning: You are saving your model as an HDF5 file via `model.save()`. This file format is considered legacy. We recommend using instead the native Keras format, e.g. `model.save('my_model.keras')`.\n",
      "  saving_api.save_model(\n"
     ]
    },
    {
     "name": "stdout",
     "output_type": "stream",
     "text": [
      "INFO:tensorflow:Assets written to: /Users/yeetusonthefetus/iiit/SMAI/project-boys/CNN/wandb/run-20231127_212001-xriopubo/files/model-best/assets\n"
     ]
    },
    {
     "name": "stderr",
     "output_type": "stream",
     "text": [
      "INFO:tensorflow:Assets written to: /Users/yeetusonthefetus/iiit/SMAI/project-boys/CNN/wandb/run-20231127_212001-xriopubo/files/model-best/assets\n",
      "\u001b[34m\u001b[1mwandb\u001b[0m: Adding directory to artifact (/Users/yeetusonthefetus/iiit/SMAI/project-boys/CNN/wandb/run-20231127_212001-xriopubo/files/model-best)... Done. 0.2s\n"
     ]
    },
    {
     "name": "stdout",
     "output_type": "stream",
     "text": [
      "14044/14044 [==============================] - 56s 4ms/step - loss: 1.1818 - accuracy: 0.5885 - val_loss: 1.0586 - val_accuracy: 0.6293\n",
      "Epoch 2/15\n",
      "14039/14044 [============================>.] - ETA: 0s - loss: 1.0205 - accuracy: 0.6398"
     ]
    },
    {
     "name": "stderr",
     "output_type": "stream",
     "text": [
      "/Users/yeetusonthefetus/iiit/SMAI/project-boys/.venv/lib/python3.11/site-packages/keras/src/engine/training.py:3103: UserWarning: You are saving your model as an HDF5 file via `model.save()`. This file format is considered legacy. We recommend using instead the native Keras format, e.g. `model.save('my_model.keras')`.\n",
      "  saving_api.save_model(\n"
     ]
    },
    {
     "name": "stdout",
     "output_type": "stream",
     "text": [
      "INFO:tensorflow:Assets written to: /Users/yeetusonthefetus/iiit/SMAI/project-boys/CNN/wandb/run-20231127_212001-xriopubo/files/model-best/assets\n"
     ]
    },
    {
     "name": "stderr",
     "output_type": "stream",
     "text": [
      "INFO:tensorflow:Assets written to: /Users/yeetusonthefetus/iiit/SMAI/project-boys/CNN/wandb/run-20231127_212001-xriopubo/files/model-best/assets\n",
      "\u001b[34m\u001b[1mwandb\u001b[0m: Adding directory to artifact (/Users/yeetusonthefetus/iiit/SMAI/project-boys/CNN/wandb/run-20231127_212001-xriopubo/files/model-best)... Done. 0.0s\n"
     ]
    },
    {
     "name": "stdout",
     "output_type": "stream",
     "text": [
      "14044/14044 [==============================] - 62s 4ms/step - loss: 1.0205 - accuracy: 0.6398 - val_loss: 1.0151 - val_accuracy: 0.6384\n",
      "Epoch 3/15\n",
      "14033/14044 [============================>.] - ETA: 0s - loss: 0.9939 - accuracy: 0.6482"
     ]
    },
    {
     "name": "stderr",
     "output_type": "stream",
     "text": [
      "/Users/yeetusonthefetus/iiit/SMAI/project-boys/.venv/lib/python3.11/site-packages/keras/src/engine/training.py:3103: UserWarning: You are saving your model as an HDF5 file via `model.save()`. This file format is considered legacy. We recommend using instead the native Keras format, e.g. `model.save('my_model.keras')`.\n",
      "  saving_api.save_model(\n"
     ]
    },
    {
     "name": "stdout",
     "output_type": "stream",
     "text": [
      "INFO:tensorflow:Assets written to: /Users/yeetusonthefetus/iiit/SMAI/project-boys/CNN/wandb/run-20231127_212001-xriopubo/files/model-best/assets\n"
     ]
    },
    {
     "name": "stderr",
     "output_type": "stream",
     "text": [
      "INFO:tensorflow:Assets written to: /Users/yeetusonthefetus/iiit/SMAI/project-boys/CNN/wandb/run-20231127_212001-xriopubo/files/model-best/assets\n",
      "\u001b[34m\u001b[1mwandb\u001b[0m: Adding directory to artifact (/Users/yeetusonthefetus/iiit/SMAI/project-boys/CNN/wandb/run-20231127_212001-xriopubo/files/model-best)... Done. 0.0s\n"
     ]
    },
    {
     "name": "stdout",
     "output_type": "stream",
     "text": [
      "14044/14044 [==============================] - 51s 4ms/step - loss: 0.9939 - accuracy: 0.6482 - val_loss: 0.9864 - val_accuracy: 0.6474\n",
      "Epoch 4/15\n",
      "14034/14044 [============================>.] - ETA: 0s - loss: 0.9775 - accuracy: 0.6534"
     ]
    },
    {
     "name": "stderr",
     "output_type": "stream",
     "text": [
      "/Users/yeetusonthefetus/iiit/SMAI/project-boys/.venv/lib/python3.11/site-packages/keras/src/engine/training.py:3103: UserWarning: You are saving your model as an HDF5 file via `model.save()`. This file format is considered legacy. We recommend using instead the native Keras format, e.g. `model.save('my_model.keras')`.\n",
      "  saving_api.save_model(\n"
     ]
    },
    {
     "name": "stdout",
     "output_type": "stream",
     "text": [
      "INFO:tensorflow:Assets written to: /Users/yeetusonthefetus/iiit/SMAI/project-boys/CNN/wandb/run-20231127_212001-xriopubo/files/model-best/assets\n"
     ]
    },
    {
     "name": "stderr",
     "output_type": "stream",
     "text": [
      "INFO:tensorflow:Assets written to: /Users/yeetusonthefetus/iiit/SMAI/project-boys/CNN/wandb/run-20231127_212001-xriopubo/files/model-best/assets\n",
      "\u001b[34m\u001b[1mwandb\u001b[0m: Adding directory to artifact (/Users/yeetusonthefetus/iiit/SMAI/project-boys/CNN/wandb/run-20231127_212001-xriopubo/files/model-best)... Done. 0.0s\n"
     ]
    },
    {
     "name": "stdout",
     "output_type": "stream",
     "text": [
      "INFO:tensorflow:Assets written to: model_relu_3.hd5/assets\n"
     ]
    },
    {
     "name": "stderr",
     "output_type": "stream",
     "text": [
      "INFO:tensorflow:Assets written to: model_relu_3.hd5/assets\n"
     ]
    },
    {
     "name": "stdout",
     "output_type": "stream",
     "text": [
      "14044/14044 [==============================] - 72s 5ms/step - loss: 0.9775 - accuracy: 0.6534 - val_loss: 0.9791 - val_accuracy: 0.6523\n",
      "Epoch 5/15\n",
      "14044/14044 [==============================] - 71s 5ms/step - loss: 0.9652 - accuracy: 0.6564 - val_loss: 1.0004 - val_accuracy: 0.6444\n",
      "Epoch 6/15\n",
      "14033/14044 [============================>.] - ETA: 0s - loss: 0.9556 - accuracy: 0.6597"
     ]
    },
    {
     "name": "stderr",
     "output_type": "stream",
     "text": [
      "/Users/yeetusonthefetus/iiit/SMAI/project-boys/.venv/lib/python3.11/site-packages/keras/src/engine/training.py:3103: UserWarning: You are saving your model as an HDF5 file via `model.save()`. This file format is considered legacy. We recommend using instead the native Keras format, e.g. `model.save('my_model.keras')`.\n",
      "  saving_api.save_model(\n"
     ]
    },
    {
     "name": "stdout",
     "output_type": "stream",
     "text": [
      "INFO:tensorflow:Assets written to: /Users/yeetusonthefetus/iiit/SMAI/project-boys/CNN/wandb/run-20231127_212001-xriopubo/files/model-best/assets\n"
     ]
    },
    {
     "name": "stderr",
     "output_type": "stream",
     "text": [
      "INFO:tensorflow:Assets written to: /Users/yeetusonthefetus/iiit/SMAI/project-boys/CNN/wandb/run-20231127_212001-xriopubo/files/model-best/assets\n",
      "\u001b[34m\u001b[1mwandb\u001b[0m: Adding directory to artifact (/Users/yeetusonthefetus/iiit/SMAI/project-boys/CNN/wandb/run-20231127_212001-xriopubo/files/model-best)... Done. 0.0s\n"
     ]
    },
    {
     "name": "stdout",
     "output_type": "stream",
     "text": [
      "14044/14044 [==============================] - 66s 5ms/step - loss: 0.9557 - accuracy: 0.6597 - val_loss: 0.9725 - val_accuracy: 0.6546\n",
      "Epoch 7/15\n",
      "14041/14044 [============================>.] - ETA: 0s - loss: 0.9468 - accuracy: 0.6631"
     ]
    },
    {
     "name": "stderr",
     "output_type": "stream",
     "text": [
      "/Users/yeetusonthefetus/iiit/SMAI/project-boys/.venv/lib/python3.11/site-packages/keras/src/engine/training.py:3103: UserWarning: You are saving your model as an HDF5 file via `model.save()`. This file format is considered legacy. We recommend using instead the native Keras format, e.g. `model.save('my_model.keras')`.\n",
      "  saving_api.save_model(\n"
     ]
    },
    {
     "name": "stdout",
     "output_type": "stream",
     "text": [
      "INFO:tensorflow:Assets written to: /Users/yeetusonthefetus/iiit/SMAI/project-boys/CNN/wandb/run-20231127_212001-xriopubo/files/model-best/assets\n"
     ]
    },
    {
     "name": "stderr",
     "output_type": "stream",
     "text": [
      "INFO:tensorflow:Assets written to: /Users/yeetusonthefetus/iiit/SMAI/project-boys/CNN/wandb/run-20231127_212001-xriopubo/files/model-best/assets\n",
      "\u001b[34m\u001b[1mwandb\u001b[0m: Adding directory to artifact (/Users/yeetusonthefetus/iiit/SMAI/project-boys/CNN/wandb/run-20231127_212001-xriopubo/files/model-best)... Done. 0.0s\n"
     ]
    },
    {
     "name": "stdout",
     "output_type": "stream",
     "text": [
      "INFO:tensorflow:Assets written to: model_relu_6.hd5/assets\n"
     ]
    },
    {
     "name": "stderr",
     "output_type": "stream",
     "text": [
      "INFO:tensorflow:Assets written to: model_relu_6.hd5/assets\n"
     ]
    },
    {
     "name": "stdout",
     "output_type": "stream",
     "text": [
      "14044/14044 [==============================] - 65s 5ms/step - loss: 0.9468 - accuracy: 0.6631 - val_loss: 0.9641 - val_accuracy: 0.6530\n",
      "Epoch 8/15\n",
      "14039/14044 [============================>.] - ETA: 0s - loss: 0.9385 - accuracy: 0.6642"
     ]
    },
    {
     "name": "stderr",
     "output_type": "stream",
     "text": [
      "/Users/yeetusonthefetus/iiit/SMAI/project-boys/.venv/lib/python3.11/site-packages/keras/src/engine/training.py:3103: UserWarning: You are saving your model as an HDF5 file via `model.save()`. This file format is considered legacy. We recommend using instead the native Keras format, e.g. `model.save('my_model.keras')`.\n",
      "  saving_api.save_model(\n"
     ]
    },
    {
     "name": "stdout",
     "output_type": "stream",
     "text": [
      "INFO:tensorflow:Assets written to: /Users/yeetusonthefetus/iiit/SMAI/project-boys/CNN/wandb/run-20231127_212001-xriopubo/files/model-best/assets\n"
     ]
    },
    {
     "name": "stderr",
     "output_type": "stream",
     "text": [
      "INFO:tensorflow:Assets written to: /Users/yeetusonthefetus/iiit/SMAI/project-boys/CNN/wandb/run-20231127_212001-xriopubo/files/model-best/assets\n",
      "\u001b[34m\u001b[1mwandb\u001b[0m: Adding directory to artifact (/Users/yeetusonthefetus/iiit/SMAI/project-boys/CNN/wandb/run-20231127_212001-xriopubo/files/model-best)... Done. 0.0s\n"
     ]
    },
    {
     "name": "stdout",
     "output_type": "stream",
     "text": [
      "14044/14044 [==============================] - 66s 5ms/step - loss: 0.9385 - accuracy: 0.6642 - val_loss: 0.9560 - val_accuracy: 0.6554\n",
      "Epoch 9/15\n",
      "14041/14044 [============================>.] - ETA: 0s - loss: 0.9322 - accuracy: 0.6665"
     ]
    },
    {
     "name": "stderr",
     "output_type": "stream",
     "text": [
      "/Users/yeetusonthefetus/iiit/SMAI/project-boys/.venv/lib/python3.11/site-packages/keras/src/engine/training.py:3103: UserWarning: You are saving your model as an HDF5 file via `model.save()`. This file format is considered legacy. We recommend using instead the native Keras format, e.g. `model.save('my_model.keras')`.\n",
      "  saving_api.save_model(\n"
     ]
    },
    {
     "name": "stdout",
     "output_type": "stream",
     "text": [
      "INFO:tensorflow:Assets written to: /Users/yeetusonthefetus/iiit/SMAI/project-boys/CNN/wandb/run-20231127_212001-xriopubo/files/model-best/assets\n"
     ]
    },
    {
     "name": "stderr",
     "output_type": "stream",
     "text": [
      "INFO:tensorflow:Assets written to: /Users/yeetusonthefetus/iiit/SMAI/project-boys/CNN/wandb/run-20231127_212001-xriopubo/files/model-best/assets\n",
      "\u001b[34m\u001b[1mwandb\u001b[0m: Adding directory to artifact (/Users/yeetusonthefetus/iiit/SMAI/project-boys/CNN/wandb/run-20231127_212001-xriopubo/files/model-best)... Done. 0.0s\n"
     ]
    },
    {
     "name": "stdout",
     "output_type": "stream",
     "text": [
      "14044/14044 [==============================] - 70s 5ms/step - loss: 0.9321 - accuracy: 0.6665 - val_loss: 0.9499 - val_accuracy: 0.6600\n",
      "Epoch 10/15\n",
      "14044/14044 [==============================] - 59s 4ms/step - loss: 0.9252 - accuracy: 0.6679 - val_loss: 0.9522 - val_accuracy: 0.6594\n",
      "Epoch 11/15\n",
      "14037/14044 [============================>.] - ETA: 0s - loss: 0.9195 - accuracy: 0.6704"
     ]
    },
    {
     "name": "stderr",
     "output_type": "stream",
     "text": [
      "/Users/yeetusonthefetus/iiit/SMAI/project-boys/.venv/lib/python3.11/site-packages/keras/src/engine/training.py:3103: UserWarning: You are saving your model as an HDF5 file via `model.save()`. This file format is considered legacy. We recommend using instead the native Keras format, e.g. `model.save('my_model.keras')`.\n",
      "  saving_api.save_model(\n"
     ]
    },
    {
     "name": "stdout",
     "output_type": "stream",
     "text": [
      "INFO:tensorflow:Assets written to: /Users/yeetusonthefetus/iiit/SMAI/project-boys/CNN/wandb/run-20231127_212001-xriopubo/files/model-best/assets\n"
     ]
    },
    {
     "name": "stderr",
     "output_type": "stream",
     "text": [
      "INFO:tensorflow:Assets written to: /Users/yeetusonthefetus/iiit/SMAI/project-boys/CNN/wandb/run-20231127_212001-xriopubo/files/model-best/assets\n",
      "\u001b[34m\u001b[1mwandb\u001b[0m: Adding directory to artifact (/Users/yeetusonthefetus/iiit/SMAI/project-boys/CNN/wandb/run-20231127_212001-xriopubo/files/model-best)... Done. 0.0s\n"
     ]
    },
    {
     "name": "stdout",
     "output_type": "stream",
     "text": [
      "14044/14044 [==============================] - 66s 5ms/step - loss: 0.9195 - accuracy: 0.6704 - val_loss: 0.9483 - val_accuracy: 0.6609\n",
      "Epoch 12/15\n",
      "14044/14044 [==============================] - 66s 5ms/step - loss: 0.9131 - accuracy: 0.6725 - val_loss: 0.9545 - val_accuracy: 0.6567\n",
      "Epoch 13/15\n",
      "14038/14044 [============================>.] - ETA: 0s - loss: 0.9074 - accuracy: 0.6740"
     ]
    },
    {
     "name": "stderr",
     "output_type": "stream",
     "text": [
      "/Users/yeetusonthefetus/iiit/SMAI/project-boys/.venv/lib/python3.11/site-packages/keras/src/engine/training.py:3103: UserWarning: You are saving your model as an HDF5 file via `model.save()`. This file format is considered legacy. We recommend using instead the native Keras format, e.g. `model.save('my_model.keras')`.\n",
      "  saving_api.save_model(\n"
     ]
    },
    {
     "name": "stdout",
     "output_type": "stream",
     "text": [
      "INFO:tensorflow:Assets written to: /Users/yeetusonthefetus/iiit/SMAI/project-boys/CNN/wandb/run-20231127_212001-xriopubo/files/model-best/assets\n"
     ]
    },
    {
     "name": "stderr",
     "output_type": "stream",
     "text": [
      "INFO:tensorflow:Assets written to: /Users/yeetusonthefetus/iiit/SMAI/project-boys/CNN/wandb/run-20231127_212001-xriopubo/files/model-best/assets\n",
      "\u001b[34m\u001b[1mwandb\u001b[0m: Adding directory to artifact (/Users/yeetusonthefetus/iiit/SMAI/project-boys/CNN/wandb/run-20231127_212001-xriopubo/files/model-best)... Done. 0.0s\n"
     ]
    },
    {
     "name": "stdout",
     "output_type": "stream",
     "text": [
      "14044/14044 [==============================] - 66s 5ms/step - loss: 0.9074 - accuracy: 0.6740 - val_loss: 0.9436 - val_accuracy: 0.6597\n",
      "Epoch 14/15\n",
      "14044/14044 [==============================] - 66s 5ms/step - loss: 0.9016 - accuracy: 0.6762 - val_loss: 0.9546 - val_accuracy: 0.6562\n",
      "Epoch 15/15\n",
      "14035/14044 [============================>.] - ETA: 0s - loss: 0.8957 - accuracy: 0.6777"
     ]
    },
    {
     "name": "stderr",
     "output_type": "stream",
     "text": [
      "/Users/yeetusonthefetus/iiit/SMAI/project-boys/.venv/lib/python3.11/site-packages/keras/src/engine/training.py:3103: UserWarning: You are saving your model as an HDF5 file via `model.save()`. This file format is considered legacy. We recommend using instead the native Keras format, e.g. `model.save('my_model.keras')`.\n",
      "  saving_api.save_model(\n"
     ]
    },
    {
     "name": "stdout",
     "output_type": "stream",
     "text": [
      "INFO:tensorflow:Assets written to: /Users/yeetusonthefetus/iiit/SMAI/project-boys/CNN/wandb/run-20231127_212001-xriopubo/files/model-best/assets\n"
     ]
    },
    {
     "name": "stderr",
     "output_type": "stream",
     "text": [
      "INFO:tensorflow:Assets written to: /Users/yeetusonthefetus/iiit/SMAI/project-boys/CNN/wandb/run-20231127_212001-xriopubo/files/model-best/assets\n",
      "\u001b[34m\u001b[1mwandb\u001b[0m: Adding directory to artifact (/Users/yeetusonthefetus/iiit/SMAI/project-boys/CNN/wandb/run-20231127_212001-xriopubo/files/model-best)... Done. 0.0s\n"
     ]
    },
    {
     "name": "stdout",
     "output_type": "stream",
     "text": [
      "14044/14044 [==============================] - 65s 5ms/step - loss: 0.8957 - accuracy: 0.6777 - val_loss: 0.9358 - val_accuracy: 0.6628\n",
      "2341/2341 [==============================] - 2s 723us/step\n"
     ]
    }
   ],
   "source": [
    "import tensorflow as tf\n",
    "model = Sequential()\n",
    "model.add(Conv1D(filters=params['filters'], kernel_size=params['kernel_size'], activation=params['act'],\n",
    "                 input_shape=(X_train.shape[1], 1)))\n",
    "model.add(MaxPooling1D(pool_size=params['pool_size']))\n",
    "model.add(Flatten())\n",
    "model.add(Dense(params['dense_units'], activation=params['act']))\n",
    "model.add(Dense(y_train_encoded.shape[1], activation='softmax'))\n",
    "\n",
    "opt = tf.keras.optimizers.Adam(learning_rate=0.00005)\n",
    "model.compile(optimizer=opt, loss='categorical_crossentropy', metrics=['accuracy'])\n",
    "\n",
    "X_train_reshaped = X_train.reshape(X_train.shape[0], X_train.shape[1], 1)\n",
    "X_val_reshaped = X_val.reshape(X_val.shape[0], X_val.shape[1], 1)\n",
    "\n",
    "saver = CustomSaver()\n",
    "\n",
    "history = model.fit(X_train_reshaped, y_train_encoded, epochs=15, batch_size=16,\n",
    "                    validation_data=(X_val_reshaped, y_val_encoded),\n",
    "                    callbacks=[EarlyStopping(monitor='val_loss', patience=3, restore_best_weights=True),\n",
    "                               WandbCallback(), saver])\n",
    "\n",
    "X_test_reshaped = X_test.reshape(X_test.shape[0], X_test.shape[1], 1)\n",
    "y_pred = model.predict(X_test_reshaped)\n",
    "y_pred_classes = np.argmax(y_pred, axis=1)\n",
    "accuracy = accuracy_score(y_test_encoded, y_pred_classes)\n",
    "\n",
    "wandb.log({'test_accuracy': accuracy})\n",
    "wandb.log({'validation_loss': history.history['val_loss'][len(history.history['val_loss']) - 1], 'epoch': len(history.history['val_loss'])})"
   ]
  },
  {
   "cell_type": "markdown",
   "metadata": {},
   "source": [
    "## Results of the model"
   ]
  },
  {
   "cell_type": "code",
   "execution_count": null,
   "metadata": {},
   "outputs": [
    {
     "name": "stdout",
     "output_type": "stream",
     "text": [
      "Accuracy: 0.6685378241112002\n",
      "Classification Report:\n",
      "              precision    recall  f1-score   support\n",
      "\n",
      "           0       0.85      0.73      0.79     23566\n",
      "           1       0.74      0.73      0.73     23355\n",
      "           2       0.83      0.85      0.84     23341\n",
      "           3       0.69      0.72      0.71     23431\n",
      "           4       0.55      0.72      0.62     23377\n",
      "           5       0.79      0.55      0.65     23453\n",
      "           6       0.57      0.32      0.41     23301\n",
      "           7       0.66      0.69      0.68     23667\n",
      "           8       0.80      0.69      0.74     23555\n",
      "           9       0.49      0.64      0.55     23666\n",
      "          10       0.55      0.71      0.62     23417\n",
      "\n",
      "    accuracy                           0.67    258129\n",
      "   macro avg       0.68      0.67      0.67    258129\n",
      "weighted avg       0.68      0.67      0.67    258129\n",
      "\n"
     ]
    }
   ],
   "source": [
    "# Evaluate the model\n",
    "accuracy = accuracy_score(y_test_encoded, y_pred_classes)\n",
    "print(f\"Accuracy: {accuracy}\")\n",
    "print(\"Classification Report:\")\n",
    "print(classification_report(y_test_encoded, y_pred_classes))"
   ]
  },
  {
   "cell_type": "code",
   "execution_count": 12,
   "metadata": {},
   "outputs": [
    {
     "name": "stderr",
     "output_type": "stream",
     "text": [
      "Python(97273) MallocStackLogging: can't turn off malloc stack logging because it was not enabled.\n"
     ]
    }
   ],
   "source": [
    "from sklearn.metrics import confusion_matrix\n",
    "import seaborn as sns\n",
    "import matplotlib.pyplot as plt\n",
    "\n",
    "\n",
    "# Compute confusion matrix\n",
    "cm = confusion_matrix(y_test_encoded, y_pred_classes)\n"
   ]
  },
  {
   "cell_type": "code",
   "execution_count": 13,
   "metadata": {},
   "outputs": [
    {
     "name": "stderr",
     "output_type": "stream",
     "text": [
      "Python(97274) MallocStackLogging: can't turn off malloc stack logging because it was not enabled.\n"
     ]
    },
    {
     "data": {
      "image/png": "[encoded data removed]",
      "text/plain": [
       "<Figure size 1000x800 with 2 Axes>"
      ]
     },
     "metadata": {},
     "output_type": "display_data"
    }
   ],
   "source": [
    "\n",
    "# Display the confusion matrix using seaborn heatmap\n",
    "plt.figure(figsize=(10, 8))\n",
    "sns.heatmap(cm, annot=True, fmt='d', cmap='Blues', xticklabels=encoder.categories_[0], yticklabels=encoder.categories_[0])\n",
    "plt.title('Confusion Matrix')\n",
    "plt.xlabel('Predicted Labels')\n",
    "plt.ylabel('True Labels')\n",
    "plt.show()\n"
   ]
  },
  {
   "cell_type": "code",
   "execution_count": null,
   "metadata": {},
   "outputs": [],
   "source": [
    "del model"
   ]
  },
  {
   "cell_type": "code",
   "execution_count": null,
   "metadata": {},
   "outputs": [],
   "source": []
  }
 ],
 "metadata": {
  "kernelspec": {
   "display_name": ".venv",
   "language": "python",
   "name": "python3"
  },
  "language_info": {
   "codemirror_mode": {
    "name": "ipython",
    "version": 3
   },
   "file_extension": ".py",
   "mimetype": "text/x-python",
   "name": "python",
   "nbconvert_exporter": "python",
   "pygments_lexer": "ipython3",
   "version": "3.11.5"
  }
 },
 "nbformat": 4,
 "nbformat_minor": 2
}
