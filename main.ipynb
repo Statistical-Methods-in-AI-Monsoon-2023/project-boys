{
 "cells": [
  {
   "cell_type": "code",
   "execution_count": 1,
   "metadata": {},
   "outputs": [],
   "source": [
    "import pandas as pd\n",
    "import numpy as np"
   ]
  },
  {
   "cell_type": "code",
   "execution_count": 3,
   "metadata": {},
   "outputs": [],
   "source": [
    "df1 = pd.read_csv('data/addiction_2018_features_tfidf_256.csv')"
   ]
  },
  {
   "cell_type": "code",
   "execution_count": 10,
   "metadata": {},
   "outputs": [],
   "source": [
    "\n",
    "column_names = df1.columns\n",
    "\n",
    "\n",
    "file_path = \"column_names.txt\"\n",
    "\n",
    "\n",
    "column_names.to_frame().to_csv(file_path, header=False, index=False)\n"
   ]
  },
  {
   "cell_type": "code",
   "execution_count": null,
   "metadata": {},
   "outputs": [],
   "source": [
    "col = ['subreddit', 'economic_stress_total', 'isolation_total', 'substance_use_total', 'guns_total', 'domestic_stress_total', 'suicidality_total', 'liwc_achievement', 'liwc_anger', 'liwc_affective_processes', 'liwc_anxiety', 'liwc_assent', 'liwc_biological', 'liwc_body', 'liwc_causation', 'liwc_cognitive', 'liwc_death', 'liwc_family', 'liwc_friends', 'liwc_health', 'liwc_hear', 'liwc_home', 'liwc_humans', 'liwc_inhibition', 'liwc_money', 'liwc_perceptual_processes', 'liwc_sadness', 'liwc_sexual', 'liwc_social_processes', 'liwc_space', 'liwc_swear_words', 'liwc_work', 'tfidf_addict', 'tfidf_adhd', 'tfidf_alcohol', 'tfidf_anxieti', 'tfidf_anxious', 'tfidf_attack', 'tfidf_away', 'tfidf_bpd', 'tfidf_brain', 'tfidf_depress', 'tfidf_diagnos', 'tfidf_die', 'tfidf_disord', 'tfidf_doctor', 'tfidf_drink', 'tfidf_drug', 'tfidf_eat', 'tfidf_famili', 'tfidf_fear', 'tfidf_health', 'tfidf_heart', 'tfidf_']"
   ]
  },
  {
   "cell_type": "code",
   "execution_count": 11,
   "metadata": {},
   "outputs": [
    {
     "name": "stdout",
     "output_type": "stream",
     "text": [
      "Collecting pingouinNote: you may need to restart the kernel to use updated packages.\n",
      "\n",
      "  Downloading pingouin-0.5.3-py3-none-any.whl (198 kB)\n",
      "     -------------------------------------- 198.6/198.6 kB 5.9 MB/s eta 0:00:00\n",
      "Requirement already satisfied: numpy>=1.19 in c:\\users\\deeptansh\\anaconda3\\lib\\site-packages (from pingouin) (1.19.5)\n",
      "Requirement already satisfied: scipy>=1.7 in c:\\users\\deeptansh\\anaconda3\\lib\\site-packages (from pingouin) (1.9.1)\n",
      "Requirement already satisfied: pandas>=1.0 in c:\\users\\deeptansh\\anaconda3\\lib\\site-packages (from pingouin) (1.4.4)\n",
      "Requirement already satisfied: matplotlib>=3.0.2 in c:\\users\\deeptansh\\appdata\\roaming\\python\\python39\\site-packages (from pingouin) (3.6.3)\n",
      "Requirement already satisfied: seaborn>=0.11 in c:\\users\\deeptansh\\anaconda3\\lib\\site-packages (from pingouin) (0.11.2)\n",
      "Requirement already satisfied: statsmodels>=0.13 in c:\\users\\deeptansh\\anaconda3\\lib\\site-packages (from pingouin) (0.13.2)\n",
      "Requirement already satisfied: scikit-learn in c:\\users\\deeptansh\\anaconda3\\lib\\site-packages (from pingouin) (1.0.2)\n",
      "Collecting pandas-flavor>=0.2.0 (from pingouin)\n",
      "  Obtaining dependency information for pandas-flavor>=0.2.0 from https://files.pythonhosted.org/packages/67/1a/bfb5574b215f530c7ac5be684f33d60b299abbebd763c203aa31755f2fb2/pandas_flavor-0.6.0-py3-none-any.whl.metadata\n",
      "  Downloading pandas_flavor-0.6.0-py3-none-any.whl.metadata (6.3 kB)\n",
      "Collecting outdated (from pingouin)\n",
      "  Downloading outdated-0.2.2-py2.py3-none-any.whl (7.5 kB)\n",
      "Requirement already satisfied: tabulate in c:\\users\\deeptansh\\anaconda3\\lib\\site-packages (from pingouin) (0.8.10)\n",
      "Requirement already satisfied: contourpy>=1.0.1 in c:\\users\\deeptansh\\anaconda3\\lib\\site-packages (from matplotlib>=3.0.2->pingouin) (1.0.7)\n",
      "Requirement already satisfied: cycler>=0.10 in c:\\users\\deeptansh\\anaconda3\\lib\\site-packages (from matplotlib>=3.0.2->pingouin) (0.11.0)\n",
      "Requirement already satisfied: fonttools>=4.22.0 in c:\\users\\deeptansh\\anaconda3\\lib\\site-packages (from matplotlib>=3.0.2->pingouin) (4.25.0)\n",
      "Requirement already satisfied: kiwisolver>=1.0.1 in c:\\users\\deeptansh\\anaconda3\\lib\\site-packages (from matplotlib>=3.0.2->pingouin) (1.4.2)\n",
      "Requirement already satisfied: packaging>=20.0 in c:\\users\\deeptansh\\anaconda3\\lib\\site-packages (from matplotlib>=3.0.2->pingouin) (21.3)\n",
      "Requirement already satisfied: pillow>=6.2.0 in c:\\users\\deeptansh\\anaconda3\\lib\\site-packages (from matplotlib>=3.0.2->pingouin) (9.2.0)\n",
      "Requirement already satisfied: pyparsing>=2.2.1 in c:\\users\\deeptansh\\anaconda3\\lib\\site-packages (from matplotlib>=3.0.2->pingouin) (3.0.9)\n",
      "Requirement already satisfied: python-dateutil>=2.7 in c:\\users\\deeptansh\\anaconda3\\lib\\site-packages (from matplotlib>=3.0.2->pingouin) (2.8.2)\n",
      "Requirement already satisfied: pytz>=2020.1 in c:\\users\\deeptansh\\anaconda3\\lib\\site-packages (from pandas>=1.0->pingouin) (2022.1)\n",
      "Requirement already satisfied: xarray in c:\\users\\deeptansh\\anaconda3\\lib\\site-packages (from pandas-flavor>=0.2.0->pingouin) (0.20.1)\n",
      "Requirement already satisfied: patsy>=0.5.2 in c:\\users\\deeptansh\\anaconda3\\lib\\site-packages (from statsmodels>=0.13->pingouin) (0.5.2)\n",
      "Requirement already satisfied: setuptools>=44 in c:\\users\\deeptansh\\anaconda3\\lib\\site-packages (from outdated->pingouin) (63.4.1)\n",
      "Collecting littleutils (from outdated->pingouin)\n",
      "  Downloading littleutils-0.2.2.tar.gz (6.6 kB)\n",
      "  Preparing metadata (setup.py): started\n",
      "  Preparing metadata (setup.py): finished with status 'done'\n",
      "Requirement already satisfied: requests in c:\\users\\deeptansh\\anaconda3\\lib\\site-packages (from outdated->pingouin) (2.27.1)\n",
      "Requirement already satisfied: joblib>=0.11 in c:\\users\\deeptansh\\anaconda3\\lib\\site-packages (from scikit-learn->pingouin) (1.1.0)\n",
      "Requirement already satisfied: threadpoolctl>=2.0.0 in c:\\users\\deeptansh\\anaconda3\\lib\\site-packages (from scikit-learn->pingouin) (2.2.0)\n",
      "Requirement already satisfied: six in c:\\users\\deeptansh\\anaconda3\\lib\\site-packages (from patsy>=0.5.2->statsmodels>=0.13->pingouin) (1.15.0)\n",
      "Requirement already satisfied: urllib3<1.27,>=1.21.1 in c:\\users\\deeptansh\\anaconda3\\lib\\site-packages (from requests->outdated->pingouin) (1.26.11)\n",
      "Requirement already satisfied: certifi>=2017.4.17 in c:\\users\\deeptansh\\anaconda3\\lib\\site-packages (from requests->outdated->pingouin) (2023.7.22)\n",
      "Requirement already satisfied: charset-normalizer~=2.0.0 in c:\\users\\deeptansh\\anaconda3\\lib\\site-packages (from requests->outdated->pingouin) (2.0.4)\n",
      "Requirement already satisfied: idna<4,>=2.5 in c:\\users\\deeptansh\\anaconda3\\lib\\site-packages (from requests->outdated->pingouin) (3.3)\n",
      "Downloading pandas_flavor-0.6.0-py3-none-any.whl (7.2 kB)\n",
      "Building wheels for collected packages: littleutils\n",
      "  Building wheel for littleutils (setup.py): started\n",
      "  Building wheel for littleutils (setup.py): finished with status 'done'\n",
      "  Created wheel for littleutils: filename=littleutils-0.2.2-py3-none-any.whl size=7028 sha256=d071231bcdab68842d5682bb359d9cdbec113c9773b2f7a7fe4be5105b19cb8e\n",
      "  Stored in directory: c:\\users\\deeptansh\\appdata\\local\\pip\\cache\\wheels\\04\\bb\\0d\\2d02ec45f29c48d6192476bfb59c5a0e64b605e7212374dd15\n",
      "Successfully built littleutils\n",
      "Installing collected packages: littleutils, outdated, pandas-flavor, pingouin\n",
      "Successfully installed littleutils-0.2.2 outdated-0.2.2 pandas-flavor-0.6.0 pingouin-0.5.3\n"
     ]
    }
   ],
   "source": [
    "pip install pingouin"
   ]
  },
  {
   "cell_type": "code",
   "execution_count": null,
   "metadata": {},
   "outputs": [],
   "source": []
  }
 ],
 "metadata": {
  "kernelspec": {
   "display_name": "base",
   "language": "python",
   "name": "python3"
  },
  "language_info": {
   "codemirror_mode": {
    "name": "ipython",
    "version": 3
   },
   "file_extension": ".py",
   "mimetype": "text/x-python",
   "name": "python",
   "nbconvert_exporter": "python",
   "pygments_lexer": "ipython3",
   "version": "3.9.13"
  }
 },
 "nbformat": 4,
 "nbformat_minor": 2
}
